{
 "cells": [
  {
   "cell_type": "code",
   "execution_count": null,
   "id": "ab54cf39",
   "metadata": {},
   "outputs": [],
   "source": [
    "import pandas as pd\n",
    "from sklearn.ensemble import RandomForestClassifier\n",
    "from monomoy import compute_widget_data, ElicitationWidget"
   ]
  },
  {
   "cell_type": "code",
   "execution_count": null,
   "id": "d0ffe719",
   "metadata": {},
   "outputs": [],
   "source": [
    "df = pd.read_csv('churn.csv')"
   ]
  },
  {
   "cell_type": "code",
   "execution_count": null,
   "id": "865c52e3",
   "metadata": {},
   "outputs": [],
   "source": [
    "df"
   ]
  },
  {
   "cell_type": "code",
   "execution_count": null,
   "id": "a47511e0",
   "metadata": {},
   "outputs": [],
   "source": [
    "df_X = df.drop(columns=[\n",
    "    'target', 'state', 'phone number',\n",
    "    'total day charge', 'total night charge',\n",
    "    'total eve charge'\n",
    "])\n",
    "y = df['target'].values"
   ]
  },
  {
   "cell_type": "code",
   "execution_count": null,
   "id": "7d075d0e",
   "metadata": {},
   "outputs": [],
   "source": [
    "df_X.columns"
   ]
  },
  {
   "cell_type": "code",
   "execution_count": null,
   "id": "a68b7cfe",
   "metadata": {},
   "outputs": [],
   "source": [
    "model = RandomForestClassifier(n_estimators=100, max_features='sqrt')\n",
    "model.fit(df_X, y)"
   ]
  },
  {
   "cell_type": "code",
   "execution_count": null,
   "id": "a131a9e1",
   "metadata": {},
   "outputs": [],
   "source": [
    "features = list(df_X.columns)"
   ]
  },
  {
   "cell_type": "code",
   "execution_count": null,
   "id": "549a0f94",
   "metadata": {},
   "outputs": [],
   "source": [
    "subset = df_X.sample(1000)\n",
    "labels = y[subset.index].tolist()"
   ]
  },
  {
   "cell_type": "code",
   "execution_count": null,
   "id": "9b716273",
   "metadata": {},
   "outputs": [],
   "source": [
    "def predict(X):\n",
    "    return model.predict_proba(X)[:,1]"
   ]
  },
  {
   "cell_type": "code",
   "execution_count": null,
   "id": "e44ac050",
   "metadata": {},
   "outputs": [],
   "source": [
    "data = compute_widget_data(\n",
    "    predict=predict,\n",
    "    df=subset,\n",
    "    features=features,\n",
    "    model_output_short='churn likelihood',\n",
    "    model_output_long='the likelihood that a customer will churn',\n",
    "    data_dictionary='churn-dictionary.csv',\n",
    "    ordinal_features={'international plan', 'voice mail plan', 'number customer service calls'},\n",
    "    nominal_features={'area code'},\n",
    "    pdp_resolution=20,\n",
    "    n_jobs=4,\n",
    ")"
   ]
  },
  {
   "cell_type": "markdown",
   "id": "a62cd7b5",
   "metadata": {},
   "source": [
    "Now we are ready to run the widget."
   ]
  },
  {
   "cell_type": "code",
   "execution_count": null,
   "id": "6414de44",
   "metadata": {},
   "outputs": [],
   "source": [
    "w = ElicitationWidget(\n",
    "    predict=predict,\n",
    "    df=subset,\n",
    "    labels=labels,\n",
    "    data=data,\n",
    "    height=650\n",
    ")\n",
    "\n",
    "w"
   ]
  },
  {
   "cell_type": "code",
   "execution_count": null,
   "id": "a10b5c84",
   "metadata": {},
   "outputs": [],
   "source": []
  }
 ],
 "metadata": {
  "kernelspec": {
   "display_name": "Python 3 (ipykernel)",
   "language": "python",
   "name": "python3"
  },
  "language_info": {
   "codemirror_mode": {
    "name": "ipython",
    "version": 3
   },
   "file_extension": ".py",
   "mimetype": "text/x-python",
   "name": "python",
   "nbconvert_exporter": "python",
   "pygments_lexer": "ipython3",
   "version": "3.8.17"
  }
 },
 "nbformat": 4,
 "nbformat_minor": 5
}
