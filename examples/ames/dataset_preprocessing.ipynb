{
 "cells": [
  {
   "cell_type": "markdown",
   "id": "ddf8aade-a93d-43b2-b7ba-84836bcd90c2",
   "metadata": {},
   "source": [
    "# Ames Housing Dataset Preprocessing"
   ]
  },
  {
   "cell_type": "code",
   "execution_count": null,
   "id": "4cc992d7",
   "metadata": {},
   "outputs": [],
   "source": [
    "import pandas as pd\n",
    "import numpy as np\n",
    "from sklearn.model_selection import train_test_split"
   ]
  },
  {
   "cell_type": "markdown",
   "id": "81f75d11",
   "metadata": {},
   "source": [
    "## Input\n",
    "\n",
    "`AmesHousing.tsv` is from [here](https://jse.amstat.org/v19n3/decock/AmesHousing.txt).\n",
    "\n",
    "Only replace empty cells with `NaN`."
   ]
  },
  {
   "cell_type": "code",
   "execution_count": null,
   "id": "6eb0972d",
   "metadata": {},
   "outputs": [],
   "source": [
    "df_all_og = pd.read_csv('AmesHousing.tsv', sep='\\t', na_values=[''], keep_default_na=False)"
   ]
  },
  {
   "cell_type": "code",
   "execution_count": null,
   "id": "a19a93b6",
   "metadata": {},
   "outputs": [],
   "source": [
    "df_all_og"
   ]
  },
  {
   "cell_type": "markdown",
   "id": "0ec13a51-d586-41b6-a4f8-4c2b69bee148",
   "metadata": {},
   "source": [
    "## Dropping Columns"
   ]
  },
  {
   "cell_type": "code",
   "execution_count": null,
   "id": "945c1983",
   "metadata": {},
   "outputs": [],
   "source": [
    "df_all_og.drop(columns=['Order', 'PID', 'MS SubClass'], inplace=True)"
   ]
  },
  {
   "cell_type": "markdown",
   "id": "bc9708f7-b20b-40cd-a511-a7f16019fa39",
   "metadata": {},
   "source": [
    "## Renaming Columns"
   ]
  },
  {
   "cell_type": "code",
   "execution_count": null,
   "id": "e1adebb3",
   "metadata": {},
   "outputs": [],
   "source": [
    "columns = [\n",
    "    \"Zoning\",\n",
    "    \"Lot Frontage\",\n",
    "    \"Lot Area\",\n",
    "    \"Street\",\n",
    "    \"Alley\",\n",
    "    \"Lot Shape\",\n",
    "    \"Land Contour\",\n",
    "    \"Utilities\",\n",
    "    \"Lot Configuration\",\n",
    "    \"Land Slope\",\n",
    "    \"Neighborhood\",\n",
    "    \"Condition 1\",\n",
    "    \"Condition 2\",\n",
    "    \"Building Type\",\n",
    "    \"House Style\",\n",
    "    \"Overall Quality\",\n",
    "    \"Overall Condition\",\n",
    "    \"Year Built\",\n",
    "    \"Year Remodel\",\n",
    "    \"Roof Style\",\n",
    "    \"Roof Material\",\n",
    "    \"Exterior 1st\",\n",
    "    \"Exterior 2nd\",\n",
    "    \"Masonry Veneer\",\n",
    "    \"Masonry Veneer Area\",\n",
    "    \"Exterior Quality\",\n",
    "    \"Exterior Condition\",\n",
    "    \"Foundation\",\n",
    "    \"Basement Height\",\n",
    "    \"Basement Condition\",\n",
    "    \"Basement Exposure\",\n",
    "    \"Basement Finish Rating 1\",\n",
    "    \"Basement Finish Area 1\",\n",
    "    \"Basement Finish Rating 2\",\n",
    "    \"Basement Finish Area 2\",\n",
    "    \"Basement Unfinished Area\",\n",
    "    \"Total Basement Area\",\n",
    "    \"Heating\",\n",
    "    \"Heating Quality\",\n",
    "    \"Central Air\",\n",
    "    \"Electrical\",\n",
    "    \"1st Floor Area\",\n",
    "    \"2nd Floor Area\",\n",
    "    \"Low Quality Finished Area\",\n",
    "    \"Above Ground Living Area\",\n",
    "    \"Basement Full Baths\",\n",
    "    \"Basement Half Baths\",\n",
    "    \"Full Baths\",\n",
    "    \"Half Baths\",\n",
    "    \"Bedrooms Above Ground\",\n",
    "    \"Kitchens Above Ground\",\n",
    "    \"Kitchen Quality\",\n",
    "    \"Rooms Above Ground\",\n",
    "    \"Functionality\",\n",
    "    \"Fireplaces\",\n",
    "    \"Fireplace Quality\",\n",
    "    \"Garage Type\",\n",
    "    \"Garage Year\",\n",
    "    \"Garage Finish\",\n",
    "    \"Garage Cars\",\n",
    "    \"Garage Area\",\n",
    "    \"Garage Quality\",\n",
    "    \"Garage Condition\",\n",
    "    \"Paved Driveway\",\n",
    "    \"Wood Deck Area\",\n",
    "    \"Open Porch Area\",\n",
    "    \"Enclosed Porch Area\",\n",
    "    \"3 Season Porch Area\",\n",
    "    \"Screen Porch Area\",\n",
    "    \"Pool Area\",\n",
    "    \"Pool Quality\",\n",
    "    \"Fence\",\n",
    "    \"Misc Feature\",\n",
    "    \"Misc Value\",\n",
    "    \"Month Sold\",\n",
    "    \"Year Sold\",\n",
    "    \"Sale Type\",\n",
    "    \"Sale Condition\",\n",
    "    \"Sale Price\"\n",
    "]"
   ]
  },
  {
   "cell_type": "markdown",
   "id": "8e6b2c60-79aa-46b0-b135-4b89d9f47277",
   "metadata": {},
   "source": [
    "Check that the new column names align with the old column names"
   ]
  },
  {
   "cell_type": "code",
   "execution_count": null,
   "id": "444b67ef-dd04-4c22-90e8-51b51eb3ec17",
   "metadata": {},
   "outputs": [],
   "source": [
    "list(zip(df_all_og.columns, columns))"
   ]
  },
  {
   "cell_type": "code",
   "execution_count": null,
   "id": "ae385744",
   "metadata": {},
   "outputs": [],
   "source": [
    "df_all_og.columns = columns"
   ]
  },
  {
   "cell_type": "code",
   "execution_count": null,
   "id": "db502113-8aa5-4604-af60-b2f96e72759f",
   "metadata": {},
   "outputs": [],
   "source": [
    "df_all_og"
   ]
  },
  {
   "cell_type": "markdown",
   "id": "f9818705-d4d2-43cc-9a7a-5a45b845a0bb",
   "metadata": {},
   "source": [
    "## Corrections"
   ]
  },
  {
   "cell_type": "code",
   "execution_count": null,
   "id": "8d48f191-dcd3-4792-a0db-12f0aa08bc91",
   "metadata": {},
   "outputs": [],
   "source": [
    "df_all_og['Exterior 2nd'].unique()"
   ]
  },
  {
   "cell_type": "markdown",
   "id": "6799003b-f1fa-4f1e-a6ac-3864bc08c441",
   "metadata": {},
   "source": [
    "Fix the impossible value for garage year."
   ]
  },
  {
   "cell_type": "code",
   "execution_count": null,
   "id": "888b6a44-bacd-45bc-b208-e96ee478ea92",
   "metadata": {},
   "outputs": [],
   "source": [
    "df_all_og['Garage Year'].describe()"
   ]
  },
  {
   "cell_type": "code",
   "execution_count": null,
   "id": "56a7acd2-05c1-48ca-8759-4f68f024e289",
   "metadata": {},
   "outputs": [],
   "source": [
    "df_all_og.loc[df_all_og['Garage Year'] == 2207][['Garage Year', 'Year Built', 'Year Remodel']]"
   ]
  },
  {
   "cell_type": "code",
   "execution_count": null,
   "id": "22f0c974",
   "metadata": {},
   "outputs": [],
   "source": [
    "df_all_og.loc[df_all_og['Garage Year'] == 2207, 'Garage Year'] = 2007"
   ]
  },
  {
   "cell_type": "code",
   "execution_count": null,
   "id": "999ea3d6-576b-4d2a-b07b-0548af89cf74",
   "metadata": {},
   "outputs": [],
   "source": [
    "df_all_og['Garage Year'].max()"
   ]
  },
  {
   "cell_type": "markdown",
   "id": "f2eee352-de9e-49d9-942f-63e646a9630e",
   "metadata": {},
   "source": [
    "Remove space after WD in the Sale Type feature."
   ]
  },
  {
   "cell_type": "code",
   "execution_count": null,
   "id": "12603126-436f-4a3d-8cde-15a985c15158",
   "metadata": {},
   "outputs": [],
   "source": [
    "df_all_og['Sale Type'].unique()"
   ]
  },
  {
   "cell_type": "code",
   "execution_count": null,
   "id": "05fbaadc",
   "metadata": {},
   "outputs": [],
   "source": [
    "df_all_og.replace({ 'Sale Type': { 'WD ': 'WD' }}, inplace=True)"
   ]
  },
  {
   "cell_type": "code",
   "execution_count": null,
   "id": "916e707d-cd62-457a-a6ab-2cc334972c19",
   "metadata": {},
   "outputs": [],
   "source": [
    "df_all_og['Sale Type'].unique()"
   ]
  },
  {
   "cell_type": "markdown",
   "id": "13047791-179c-4b9d-b865-238b94633ee1",
   "metadata": {},
   "source": [
    "## Missing Values"
   ]
  },
  {
   "cell_type": "code",
   "execution_count": null,
   "id": "7f7c9af2-6e03-4a4c-99b4-e6f5e92c2d91",
   "metadata": {},
   "outputs": [],
   "source": [
    "def get_na_counts(df):\n",
    "    return sorted([(k, v) for k, v in dict(df.isna().sum()).items() if v > 0], key=lambda x: -x[1])\n",
    "\n",
    "get_na_counts(df_all_og)"
   ]
  },
  {
   "cell_type": "markdown",
   "id": "826fab94-c1fb-431f-ae4a-042ecf35ed6a",
   "metadata": {},
   "source": [
    "### Lot Frontage\n",
    "\n",
    "Replace missing values with the median."
   ]
  },
  {
   "cell_type": "code",
   "execution_count": null,
   "id": "4cb69773-0f08-4fb9-8d72-81412a3fbf25",
   "metadata": {},
   "outputs": [],
   "source": [
    "df_all_og['Lot Frontage'].median()"
   ]
  },
  {
   "cell_type": "code",
   "execution_count": null,
   "id": "3e5a5d2d",
   "metadata": {},
   "outputs": [],
   "source": [
    "df_all_og['Lot Frontage'].fillna(df_all_og['Lot Frontage'].median(), inplace=True)"
   ]
  },
  {
   "cell_type": "markdown",
   "id": "6f311818-7302-44a7-b85d-4ac46093a5c0",
   "metadata": {},
   "source": [
    "### Garage Year\n",
    "\n",
    "If there is no garage year (like when there is no garage), then set it to the year the house was built."
   ]
  },
  {
   "cell_type": "code",
   "execution_count": null,
   "id": "f269b171-78f3-4175-8a42-81accf9122e7",
   "metadata": {},
   "outputs": [],
   "source": [
    "garage_is_na = df_all_og['Garage Year'].isna()\n",
    "df_all_og.loc[garage_is_na, 'Garage Year'] = df_all_og[garage_is_na]['Year Built']"
   ]
  },
  {
   "cell_type": "markdown",
   "id": "4eec39b3-cdb1-465a-a51d-6f8081f71f3a",
   "metadata": {},
   "source": [
    "### Masonry Veneer and Masonry Veneer Area\n",
    "\n",
    "Where there's no masonry veneer, set the area to 0 and the type to none."
   ]
  },
  {
   "cell_type": "code",
   "execution_count": null,
   "id": "9242e9af-9da0-46cd-901d-363c65041cbb",
   "metadata": {},
   "outputs": [],
   "source": [
    "df_all_og['Masonry Veneer Area'].mode()"
   ]
  },
  {
   "cell_type": "code",
   "execution_count": null,
   "id": "1f8aa9c5-4d17-4264-8b22-74fedc28effc",
   "metadata": {},
   "outputs": [],
   "source": [
    "df_all_og['Masonry Veneer Area'].fillna(0, inplace=True)\n",
    "df_all_og['Masonry Veneer'].fillna('None', inplace=True)"
   ]
  },
  {
   "cell_type": "markdown",
   "id": "c94dfd66-7d97-4e04-97fc-4bb307f1279f",
   "metadata": {},
   "source": [
    "### Other\n",
    "\n",
    "Remove the remaining 9 instances that have missing values."
   ]
  },
  {
   "cell_type": "code",
   "execution_count": null,
   "id": "6ff803f5-fb7e-4c0b-a4c8-bb185f7fa968",
   "metadata": {},
   "outputs": [],
   "source": [
    "get_na_counts(df_all_og)"
   ]
  },
  {
   "cell_type": "code",
   "execution_count": null,
   "id": "668ac8ea-ca3f-481b-913e-7ae80db8dca8",
   "metadata": {},
   "outputs": [],
   "source": [
    "df_all_og[df_all_og.isna().sum(axis=1) > 0].shape"
   ]
  },
  {
   "cell_type": "code",
   "execution_count": null,
   "id": "86ce8ed7-ac7e-467b-afee-8df80a195891",
   "metadata": {},
   "outputs": [],
   "source": [
    "df_all_og.dropna(inplace=True)"
   ]
  },
  {
   "cell_type": "code",
   "execution_count": null,
   "id": "26bc9266-91cd-420e-813e-5be1c00fbd70",
   "metadata": {},
   "outputs": [],
   "source": [
    "df_all_og.shape"
   ]
  },
  {
   "cell_type": "markdown",
   "id": "d98de97e-0cc3-409a-85a0-61280b290669",
   "metadata": {},
   "source": [
    "## One-hot Encoding"
   ]
  },
  {
   "cell_type": "code",
   "execution_count": null,
   "id": "ec061078",
   "metadata": {},
   "outputs": [],
   "source": [
    "one_hot_columns = [\n",
    "    'Zoning',\n",
    "    'Alley',\n",
    "    'Land Contour',\n",
    "    'Utilities',\n",
    "    'Lot Configuration',\n",
    "    'Neighborhood',\n",
    "    'Condition 1',\n",
    "    'Condition 2',\n",
    "    'Building Type',\n",
    "    'House Style',\n",
    "    'Roof Style',\n",
    "    'Roof Material',\n",
    "    'Exterior 1st',\n",
    "    'Exterior 2nd',\n",
    "    'Masonry Veneer',\n",
    "    'Foundation',\n",
    "    'Basement Finish Rating 1',\n",
    "    'Basement Finish Rating 2',\n",
    "    'Heating',\n",
    "    'Electrical',\n",
    "    'Garage Type',\n",
    "    'Sale Type',\n",
    "    'Sale Condition',\n",
    "    'Fence',\n",
    "    'Misc Feature'\n",
    "]"
   ]
  },
  {
   "cell_type": "code",
   "execution_count": null,
   "id": "e32b702e",
   "metadata": {},
   "outputs": [],
   "source": [
    "df_all_one_hot = pd.get_dummies(df_all_og, columns=one_hot_columns, dtype=np.uint8)"
   ]
  },
  {
   "cell_type": "code",
   "execution_count": null,
   "id": "15f7b44a",
   "metadata": {},
   "outputs": [],
   "source": [
    "df_all_one_hot"
   ]
  },
  {
   "cell_type": "markdown",
   "id": "fce6cfa5-1370-4c31-a890-edfea84268fa",
   "metadata": {},
   "source": [
    "## Ordinal encoding"
   ]
  },
  {
   "cell_type": "code",
   "execution_count": null,
   "id": "28634c9d",
   "metadata": {},
   "outputs": [],
   "source": [
    "replace = {\n",
    "    'Street': {\n",
    "        'Grvl': 0,\n",
    "        'Pave': 1\n",
    "    },\n",
    "    'Central Air': {\n",
    "        'N': 0,\n",
    "        'Y': 1\n",
    "    },\n",
    "    'Lot Shape': {\n",
    "        'Reg': 0,\n",
    "        'IR1': 1,\n",
    "        'IR2': 2,\n",
    "        'IR3': 3\n",
    "    },\n",
    "    'Land Slope': {\n",
    "        'Gtl': 0,\n",
    "        'Mod': 1,\n",
    "        'Sev': 2\n",
    "    },\n",
    "    'Basement Height': {\n",
    "        'Ex': 0,\n",
    "        'Gd': 1,\n",
    "        'TA': 2,\n",
    "        'Fa': 3,\n",
    "        'Po': 4,\n",
    "        'NA': 5\n",
    "    },\n",
    "    'Basement Condition': {\n",
    "        'Ex': 0,\n",
    "        'Gd': 1,\n",
    "        'TA': 2,\n",
    "        'Fa': 3,\n",
    "        'Po': 4,\n",
    "        'NA': 5\n",
    "    },\n",
    "    'Basement Exposure': {\n",
    "        'Gd': 0,\n",
    "        'Av': 1,\n",
    "        'Mn': 2,\n",
    "        'No': 3,\n",
    "        'NA': 4\n",
    "    },\n",
    "    'Exterior Quality': {\n",
    "        'Ex': 0,\n",
    "        'Gd': 1,\n",
    "        'TA': 2,\n",
    "        'Fa': 3,\n",
    "        'Po': 4\n",
    "    },\n",
    "    'Exterior Condition': {\n",
    "        'Ex': 0,\n",
    "        'Gd': 1,\n",
    "        'TA': 2,\n",
    "        'Fa': 3,\n",
    "        'Po': 4\n",
    "    },\n",
    "    'Heating Quality': {\n",
    "        'Ex': 0,\n",
    "        'Gd': 1,\n",
    "        'TA': 2,\n",
    "        'Fa': 3,\n",
    "        'Po': 4\n",
    "    },\n",
    "    'Kitchen Quality': {\n",
    "        'Ex': 0,\n",
    "        'Gd': 1,\n",
    "        'TA': 2,\n",
    "        'Fa': 3,\n",
    "        'Po': 4\n",
    "    },\n",
    "    'Functionality': {\n",
    "        'Typ': 0,\n",
    "        'Min1': 1,\n",
    "        'Min2': 2,\n",
    "        'Mod': 3,\n",
    "        'Maj1': 4,\n",
    "        'Maj2': 5,\n",
    "        'Sev': 6,\n",
    "        'Sal': 7\n",
    "    },\n",
    "    'Fireplace Quality': {\n",
    "        'Ex': 0,\n",
    "        'Gd': 1,\n",
    "        'TA': 2,\n",
    "        'Fa': 3,\n",
    "        'Po': 4,\n",
    "        'NA': 5\n",
    "    },\n",
    "    'Garage Finish': {\n",
    "        'Fin': 0,\n",
    "        'RFn': 1,\n",
    "        'Unf': 2,\n",
    "        'NA': 3\n",
    "    },\n",
    "    'Garage Quality': {\n",
    "        'Ex': 0,\n",
    "        'Gd': 1,\n",
    "        'TA': 2,\n",
    "        'Fa': 3,\n",
    "        'Po': 4,\n",
    "        'NA': 5\n",
    "    },\n",
    "    'Garage Condition': {\n",
    "        'Ex': 0,\n",
    "        'Gd': 1,\n",
    "        'TA': 2,\n",
    "        'Fa': 3,\n",
    "        'Po': 4,\n",
    "        'NA': 5\n",
    "    },\n",
    "    'Paved Driveway': {\n",
    "        'Y': 0,\n",
    "        'P': 1,\n",
    "        'N': 2\n",
    "    },\n",
    "    'Pool Quality': {\n",
    "        'Ex': 0,\n",
    "        'Gd': 1,\n",
    "        'TA': 2,\n",
    "        'Fa': 3,\n",
    "        'NA': 4\n",
    "    }\n",
    "}"
   ]
  },
  {
   "cell_type": "code",
   "execution_count": null,
   "id": "2fd9ff66",
   "metadata": {},
   "outputs": [],
   "source": [
    "df_all = df_all_one_hot.replace(to_replace=replace)"
   ]
  },
  {
   "cell_type": "code",
   "execution_count": null,
   "id": "85b61d6b",
   "metadata": {},
   "outputs": [],
   "source": [
    "df_all"
   ]
  },
  {
   "cell_type": "markdown",
   "id": "a7efd2ee-aade-4d3a-9cb4-4d2b8c87efc5",
   "metadata": {},
   "source": [
    "## Output"
   ]
  },
  {
   "cell_type": "code",
   "execution_count": null,
   "id": "db2ada76",
   "metadata": {},
   "outputs": [],
   "source": [
    "df_all"
   ]
  },
  {
   "cell_type": "code",
   "execution_count": null,
   "id": "de28b083",
   "metadata": {},
   "outputs": [],
   "source": [
    "df_train, df_test = train_test_split(df_all, test_size=0.25, random_state=0)"
   ]
  },
  {
   "cell_type": "code",
   "execution_count": null,
   "id": "0121a9a6-3bf9-47fe-94bb-3dd62ba05586",
   "metadata": {},
   "outputs": [],
   "source": [
    "df_train"
   ]
  },
  {
   "cell_type": "code",
   "execution_count": null,
   "id": "4b01f338-807a-474a-9de1-dae6539c5d74",
   "metadata": {},
   "outputs": [],
   "source": [
    "df_test.shape"
   ]
  },
  {
   "cell_type": "code",
   "execution_count": null,
   "id": "4cfca3d2-ca03-478a-bc87-7397e71e4a8d",
   "metadata": {},
   "outputs": [],
   "source": [
    "df_train.to_csv('AmesHousingPreprocessedTrain.csv', index=False)"
   ]
  },
  {
   "cell_type": "code",
   "execution_count": null,
   "id": "6a2df176-920b-413f-8ccf-866ec8ccf8af",
   "metadata": {},
   "outputs": [],
   "source": [
    "df_test.to_csv('AmesHousingPreprocessedTest.csv', index=False)"
   ]
  },
  {
   "cell_type": "code",
   "execution_count": null,
   "id": "ba91f03b-c411-4eef-8af0-24b6d564da40",
   "metadata": {},
   "outputs": [],
   "source": []
  }
 ],
 "metadata": {
  "kernelspec": {
   "display_name": "Python 3 (ipykernel)",
   "language": "python",
   "name": "python3"
  },
  "language_info": {
   "codemirror_mode": {
    "name": "ipython",
    "version": 3
   },
   "file_extension": ".py",
   "mimetype": "text/x-python",
   "name": "python",
   "nbconvert_exporter": "python",
   "pygments_lexer": "ipython3",
   "version": "3.10.12"
  }
 },
 "nbformat": 4,
 "nbformat_minor": 5
}
