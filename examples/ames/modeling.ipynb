{
 "cells": [
  {
   "cell_type": "code",
   "execution_count": null,
   "id": "4b3d59a8",
   "metadata": {},
   "outputs": [],
   "source": [
    "import pandas as pd\n",
    "import numpy as np\n",
    "import xgboost as xgb\n",
    "from sklearn.model_selection import GridSearchCV, KFold\n",
    "from sklearn.metrics import mean_squared_error, mean_absolute_error"
   ]
  },
  {
   "cell_type": "code",
   "execution_count": null,
   "id": "e30fd23f",
   "metadata": {},
   "outputs": [],
   "source": [
    "df_train = pd.read_csv('AmesHousingPreprocessedTrain.csv', na_values=[], keep_default_na=False)"
   ]
  },
  {
   "cell_type": "code",
   "execution_count": null,
   "id": "1eb504bc",
   "metadata": {},
   "outputs": [],
   "source": [
    "X_train = df_train.drop(columns=['Sale Price'])\n",
    "y_train = df_train['Sale Price'].values"
   ]
  },
  {
   "cell_type": "code",
   "execution_count": null,
   "id": "cf48e299",
   "metadata": {},
   "outputs": [],
   "source": [
    "xgb_model = xgb.XGBRegressor(objective='reg:squarederror', random_state=1)\n",
    "\n",
    "clf = GridSearchCV(\n",
    "    xgb_model,\n",
    "    {\n",
    "        'subsample': np.linspace(0.05, 1, num=5),\n",
    "        'colsample_bytree': np.linspace(0.05, 1, num=5),\n",
    "        'max_depth': [2, 4, 6, 8],\n",
    "        'n_estimators': [100, 200, 400, 800]\n",
    "    }, \n",
    "    verbose=2,\n",
    "    cv=KFold(n_splits=5, shuffle=True, random_state=2),\n",
    "    scoring='neg_mean_squared_error',\n",
    "    n_jobs=4\n",
    ")\n",
    "\n",
    "clf.fit(X_train, y_train)"
   ]
  },
  {
   "cell_type": "code",
   "execution_count": null,
   "id": "f448cefc",
   "metadata": {},
   "outputs": [],
   "source": [
    "model = clf.best_estimator_"
   ]
  },
  {
   "cell_type": "code",
   "execution_count": null,
   "id": "4f3b6930",
   "metadata": {},
   "outputs": [],
   "source": [
    "clf.best_params_"
   ]
  },
  {
   "cell_type": "code",
   "execution_count": null,
   "id": "df97d49a-6a15-498c-b645-d24516d455d7",
   "metadata": {},
   "outputs": [],
   "source": [
    "clf.best_score_"
   ]
  },
  {
   "cell_type": "code",
   "execution_count": null,
   "id": "b394bebc-bfb0-473f-930a-e7c4291abf83",
   "metadata": {},
   "outputs": [],
   "source": [
    "y_pred = model.predict(X_train)"
   ]
  },
  {
   "cell_type": "code",
   "execution_count": null,
   "id": "60be3de2-dbc5-46e9-8eca-1bc38bc85bae",
   "metadata": {},
   "outputs": [],
   "source": [
    "mean_absolute_error(y_train, y_pred)"
   ]
  },
  {
   "cell_type": "code",
   "execution_count": null,
   "id": "dfc7de1e-c07c-4f91-9b2c-225549dade64",
   "metadata": {},
   "outputs": [],
   "source": [
    "mean_squared_error(y_train, y_pred)"
   ]
  },
  {
   "cell_type": "code",
   "execution_count": null,
   "id": "576660cb-22b1-4e94-9099-63d6a675c187",
   "metadata": {},
   "outputs": [],
   "source": [
    "model.score(X_train, y_train)"
   ]
  },
  {
   "cell_type": "code",
   "execution_count": null,
   "id": "079586b2",
   "metadata": {},
   "outputs": [],
   "source": [
    "model.save_model('ames_model.json')"
   ]
  },
  {
   "cell_type": "code",
   "execution_count": null,
   "id": "017237c8-dea2-43a5-8714-b9c18d7ead91",
   "metadata": {},
   "outputs": [],
   "source": []
  }
 ],
 "metadata": {
  "kernelspec": {
   "display_name": "Python 3 (ipykernel)",
   "language": "python",
   "name": "python3"
  },
  "language_info": {
   "codemirror_mode": {
    "name": "ipython",
    "version": 3
   },
   "file_extension": ".py",
   "mimetype": "text/x-python",
   "name": "python",
   "nbconvert_exporter": "python",
   "pygments_lexer": "ipython3",
   "version": "3.10.12"
  }
 },
 "nbformat": 4,
 "nbformat_minor": 5
}
