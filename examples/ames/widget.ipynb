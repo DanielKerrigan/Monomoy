{
 "cells": [
  {
   "cell_type": "code",
   "execution_count": 1,
   "id": "4b3d59a8",
   "metadata": {},
   "outputs": [],
   "source": [
    "import pandas as pd\n",
    "import numpy as np\n",
    "import xgboost as xgb\n",
    "from monomoy import ElicitationWidget"
   ]
  },
  {
   "cell_type": "code",
   "execution_count": 2,
   "id": "e30fd23f",
   "metadata": {},
   "outputs": [],
   "source": [
    "df_train = pd.read_csv('AmesHousingPreprocessedTrain.csv', na_values=[], keep_default_na=False)"
   ]
  },
  {
   "cell_type": "code",
   "execution_count": 3,
   "id": "1eb504bc",
   "metadata": {},
   "outputs": [],
   "source": [
    "X_train = df_train.drop(columns=['Sale Price'])\n",
    "y_train = df_train['Sale Price'].values"
   ]
  },
  {
   "cell_type": "code",
   "execution_count": 4,
   "id": "461e550a",
   "metadata": {},
   "outputs": [],
   "source": [
    "model = xgb.XGBRegressor()\n",
    "model.load_model('ames_model.json')"
   ]
  },
  {
   "cell_type": "code",
   "execution_count": 5,
   "id": "aef1d073",
   "metadata": {},
   "outputs": [
    {
     "data": {
      "application/vnd.jupyter.widget-view+json": {
       "model_id": "ab5c3aac043c42368a1da2903c9a0e02",
       "version_major": 2,
       "version_minor": 0
      },
      "text/plain": [
       "ElicitationWidget(constraints={'1st Floor Area': '', '2nd Floor Area': '', '3 Season Porch Area': '', 'Above G…"
      ]
     },
     "execution_count": 5,
     "metadata": {},
     "output_type": "execute_result"
    }
   ],
   "source": [
    "w = ElicitationWidget(\n",
    "    predict=model.predict,\n",
    "    df=X_train,\n",
    "    labels=y_train,\n",
    "    data='ames_data.json',\n",
    "    height=650,\n",
    ")\n",
    "\n",
    "w"
   ]
  },
  {
   "cell_type": "code",
   "execution_count": null,
   "id": "193202ad",
   "metadata": {},
   "outputs": [],
   "source": []
  }
 ],
 "metadata": {
  "kernelspec": {
   "display_name": "Python 3 (ipykernel)",
   "language": "python",
   "name": "python3"
  },
  "language_info": {
   "codemirror_mode": {
    "name": "ipython",
    "version": 3
   },
   "file_extension": ".py",
   "mimetype": "text/x-python",
   "name": "python",
   "nbconvert_exporter": "python",
   "pygments_lexer": "ipython3",
   "version": "3.8.17"
  }
 },
 "nbformat": 4,
 "nbformat_minor": 5
}
